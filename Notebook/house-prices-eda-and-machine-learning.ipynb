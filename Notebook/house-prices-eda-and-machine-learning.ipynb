{
 "cells": [
  {
   "cell_type": "markdown",
   "id": "d2febde4",
   "metadata": {
    "papermill": {
     "duration": 0.004457,
     "end_time": "2025-09-01T08:46:39.280770",
     "exception": false,
     "start_time": "2025-09-01T08:46:39.276313",
     "status": "completed"
    },
    "tags": []
   },
   "source": [
    "# House Prices: EDA and Machine Learning  \n",
    "\n",
    "This notebook explores the Kaggle House Prices dataset.  \n",
    "It covers data exploration, handling missing values, feature engineering, and training different machine learning models.  \n",
    "\n",
    "Models compared include Linear Regression, Ridge, Lasso, RandomForest, and XGBoost.  \n",
    "The final predictions are generated using XGBoost and submitted to the competition.  \n"
   ]
  },
  {
   "cell_type": "markdown",
   "id": "216cbb27",
   "metadata": {
    "papermill": {
     "duration": 0.003275,
     "end_time": "2025-09-01T08:46:39.288439",
     "exception": false,
     "start_time": "2025-09-01T08:46:39.285164",
     "status": "completed"
    },
    "tags": []
   },
   "source": [
    "## 📂 Checking Available Files  \n",
    "Kaggle datasets are stored under the `/kaggle/input/` directory. The command below lists the files available in this competition.\n"
   ]
  },
  {
   "cell_type": "code",
   "execution_count": 1,
   "id": "91de9b3f",
   "metadata": {
    "_cell_guid": "b1076dfc-b9ad-4769-8c92-a6c4dae69d19",
    "_uuid": "8f2839f25d086af736a60e9eeb907d3b93b6e0e5",
    "execution": {
     "iopub.execute_input": "2025-09-01T08:46:39.297722Z",
     "iopub.status.busy": "2025-09-01T08:46:39.296797Z",
     "iopub.status.idle": "2025-09-01T08:46:41.209409Z",
     "shell.execute_reply": "2025-09-01T08:46:41.208482Z"
    },
    "papermill": {
     "duration": 1.918915,
     "end_time": "2025-09-01T08:46:41.211179",
     "exception": false,
     "start_time": "2025-09-01T08:46:39.292264",
     "status": "completed"
    },
    "tags": []
   },
   "outputs": [
    {
     "name": "stdout",
     "output_type": "stream",
     "text": [
      "/kaggle/input/house-prices-advanced-regression-techniques/sample_submission.csv\n",
      "/kaggle/input/house-prices-advanced-regression-techniques/data_description.txt\n",
      "/kaggle/input/house-prices-advanced-regression-techniques/train.csv\n",
      "/kaggle/input/house-prices-advanced-regression-techniques/test.csv\n"
     ]
    }
   ],
   "source": [
    "# This Python 3 environment comes with many helpful analytics libraries installed\n",
    "# It is defined by the kaggle/python Docker image: https://github.com/kaggle/docker-python\n",
    "# For example, here's several helpful packages to load\n",
    "\n",
    "import numpy as np # linear algebra\n",
    "import pandas as pd # data processing, CSV file I/O (e.g. pd.read_csv)\n",
    "\n",
    "# Input data files are available in the read-only \"../input/\" directory\n",
    "# For example, running this (by clicking run or pressing Shift+Enter) will list all files under the input directory\n",
    "\n",
    "import os\n",
    "for dirname, _, filenames in os.walk('/kaggle/input'):\n",
    "    for filename in filenames:\n",
    "        print(os.path.join(dirname, filename))\n",
    "\n",
    "# You can write up to 20GB to the current directory (/kaggle/working/) that gets preserved as output when you create a version using \"Save & Run All\" \n",
    "# You can also write temporary files to /kaggle/temp/, but they won't be saved outside of the current session"
   ]
  },
  {
   "cell_type": "markdown",
   "id": "2d541078",
   "metadata": {
    "papermill": {
     "duration": 0.0034,
     "end_time": "2025-09-01T08:46:41.218407",
     "exception": false,
     "start_time": "2025-09-01T08:46:41.215007",
     "status": "completed"
    },
    "tags": []
   },
   "source": [
    "# 🏡 House Prices Prediction with Machine Learning  \n",
    "\n",
    "The housing market has always fascinated economists, analysts and homeowners. Being able to predict the sale price of a house based on its features is not just a fun machine learning exercise but also a problem with real-world impact.  \n",
    "\n",
    "In this notebook I will explore the famous Kaggle competition House Prices: Advanced Regression Techniques. Together we will dive into the data, handle missing values, engineer useful features, train multiple models and finally generate predictions for submission. The goal is not just to chase accuracy but to learn how data science techniques come together to solve a regression problem.\n"
   ]
  },
  {
   "cell_type": "code",
   "execution_count": 2,
   "id": "12365aa4",
   "metadata": {
    "execution": {
     "iopub.execute_input": "2025-09-01T08:46:41.227041Z",
     "iopub.status.busy": "2025-09-01T08:46:41.226607Z",
     "iopub.status.idle": "2025-09-01T08:46:44.232508Z",
     "shell.execute_reply": "2025-09-01T08:46:44.231651Z"
    },
    "papermill": {
     "duration": 3.01252,
     "end_time": "2025-09-01T08:46:44.234537",
     "exception": false,
     "start_time": "2025-09-01T08:46:41.222017",
     "status": "completed"
    },
    "tags": []
   },
   "outputs": [],
   "source": [
    "import pandas as pd\n",
    "import numpy as np\n",
    "import matplotlib.pyplot as plt\n",
    "import seaborn as sns\n",
    "\n",
    "from sklearn.model_selection import train_test_split, cross_val_score\n",
    "from sklearn.preprocessing import StandardScaler, LabelEncoder\n",
    "from sklearn.linear_model import LinearRegression, Ridge, Lasso\n",
    "from sklearn.ensemble import RandomForestRegressor\n",
    "from xgboost import XGBRegressor\n",
    "\n",
    "from sklearn.metrics import mean_squared_error\n",
    "import warnings\n",
    "warnings.filterwarnings(\"ignore\")\n"
   ]
  },
  {
   "cell_type": "markdown",
   "id": "9ac23b4b",
   "metadata": {
    "papermill": {
     "duration": 0.003567,
     "end_time": "2025-09-01T08:46:44.242009",
     "exception": false,
     "start_time": "2025-09-01T08:46:44.238442",
     "status": "completed"
    },
    "tags": []
   },
   "source": [
    "## 📂 Loading the Dataset  \n",
    "\n",
    "The competition provides three files. The training data contains house features along with the target column SalePrice. The test data contains house features without the target column. The sample submission file shows the format in which Kaggle expects the predictions.  \n"
   ]
  },
  {
   "cell_type": "code",
   "execution_count": 3,
   "id": "3b2e88ba",
   "metadata": {
    "execution": {
     "iopub.execute_input": "2025-09-01T08:46:44.250728Z",
     "iopub.status.busy": "2025-09-01T08:46:44.250264Z",
     "iopub.status.idle": "2025-09-01T08:46:44.368968Z",
     "shell.execute_reply": "2025-09-01T08:46:44.368046Z"
    },
    "papermill": {
     "duration": 0.124872,
     "end_time": "2025-09-01T08:46:44.370510",
     "exception": false,
     "start_time": "2025-09-01T08:46:44.245638",
     "status": "completed"
    },
    "tags": []
   },
   "outputs": [
    {
     "name": "stdout",
     "output_type": "stream",
     "text": [
      "Training data shape: (1460, 81)\n",
      "Test data shape: (1459, 80)\n"
     ]
    },
    {
     "data": {
      "text/html": [
       "<div>\n",
       "<style scoped>\n",
       "    .dataframe tbody tr th:only-of-type {\n",
       "        vertical-align: middle;\n",
       "    }\n",
       "\n",
       "    .dataframe tbody tr th {\n",
       "        vertical-align: top;\n",
       "    }\n",
       "\n",
       "    .dataframe thead th {\n",
       "        text-align: right;\n",
       "    }\n",
       "</style>\n",
       "<table border=\"1\" class=\"dataframe\">\n",
       "  <thead>\n",
       "    <tr style=\"text-align: right;\">\n",
       "      <th></th>\n",
       "      <th>Id</th>\n",
       "      <th>MSSubClass</th>\n",
       "      <th>MSZoning</th>\n",
       "      <th>LotFrontage</th>\n",
       "      <th>LotArea</th>\n",
       "      <th>Street</th>\n",
       "      <th>Alley</th>\n",
       "      <th>LotShape</th>\n",
       "      <th>LandContour</th>\n",
       "      <th>Utilities</th>\n",
       "      <th>...</th>\n",
       "      <th>PoolArea</th>\n",
       "      <th>PoolQC</th>\n",
       "      <th>Fence</th>\n",
       "      <th>MiscFeature</th>\n",
       "      <th>MiscVal</th>\n",
       "      <th>MoSold</th>\n",
       "      <th>YrSold</th>\n",
       "      <th>SaleType</th>\n",
       "      <th>SaleCondition</th>\n",
       "      <th>SalePrice</th>\n",
       "    </tr>\n",
       "  </thead>\n",
       "  <tbody>\n",
       "    <tr>\n",
       "      <th>0</th>\n",
       "      <td>1</td>\n",
       "      <td>60</td>\n",
       "      <td>RL</td>\n",
       "      <td>65.0</td>\n",
       "      <td>8450</td>\n",
       "      <td>Pave</td>\n",
       "      <td>NaN</td>\n",
       "      <td>Reg</td>\n",
       "      <td>Lvl</td>\n",
       "      <td>AllPub</td>\n",
       "      <td>...</td>\n",
       "      <td>0</td>\n",
       "      <td>NaN</td>\n",
       "      <td>NaN</td>\n",
       "      <td>NaN</td>\n",
       "      <td>0</td>\n",
       "      <td>2</td>\n",
       "      <td>2008</td>\n",
       "      <td>WD</td>\n",
       "      <td>Normal</td>\n",
       "      <td>208500</td>\n",
       "    </tr>\n",
       "    <tr>\n",
       "      <th>1</th>\n",
       "      <td>2</td>\n",
       "      <td>20</td>\n",
       "      <td>RL</td>\n",
       "      <td>80.0</td>\n",
       "      <td>9600</td>\n",
       "      <td>Pave</td>\n",
       "      <td>NaN</td>\n",
       "      <td>Reg</td>\n",
       "      <td>Lvl</td>\n",
       "      <td>AllPub</td>\n",
       "      <td>...</td>\n",
       "      <td>0</td>\n",
       "      <td>NaN</td>\n",
       "      <td>NaN</td>\n",
       "      <td>NaN</td>\n",
       "      <td>0</td>\n",
       "      <td>5</td>\n",
       "      <td>2007</td>\n",
       "      <td>WD</td>\n",
       "      <td>Normal</td>\n",
       "      <td>181500</td>\n",
       "    </tr>\n",
       "    <tr>\n",
       "      <th>2</th>\n",
       "      <td>3</td>\n",
       "      <td>60</td>\n",
       "      <td>RL</td>\n",
       "      <td>68.0</td>\n",
       "      <td>11250</td>\n",
       "      <td>Pave</td>\n",
       "      <td>NaN</td>\n",
       "      <td>IR1</td>\n",
       "      <td>Lvl</td>\n",
       "      <td>AllPub</td>\n",
       "      <td>...</td>\n",
       "      <td>0</td>\n",
       "      <td>NaN</td>\n",
       "      <td>NaN</td>\n",
       "      <td>NaN</td>\n",
       "      <td>0</td>\n",
       "      <td>9</td>\n",
       "      <td>2008</td>\n",
       "      <td>WD</td>\n",
       "      <td>Normal</td>\n",
       "      <td>223500</td>\n",
       "    </tr>\n",
       "    <tr>\n",
       "      <th>3</th>\n",
       "      <td>4</td>\n",
       "      <td>70</td>\n",
       "      <td>RL</td>\n",
       "      <td>60.0</td>\n",
       "      <td>9550</td>\n",
       "      <td>Pave</td>\n",
       "      <td>NaN</td>\n",
       "      <td>IR1</td>\n",
       "      <td>Lvl</td>\n",
       "      <td>AllPub</td>\n",
       "      <td>...</td>\n",
       "      <td>0</td>\n",
       "      <td>NaN</td>\n",
       "      <td>NaN</td>\n",
       "      <td>NaN</td>\n",
       "      <td>0</td>\n",
       "      <td>2</td>\n",
       "      <td>2006</td>\n",
       "      <td>WD</td>\n",
       "      <td>Abnorml</td>\n",
       "      <td>140000</td>\n",
       "    </tr>\n",
       "    <tr>\n",
       "      <th>4</th>\n",
       "      <td>5</td>\n",
       "      <td>60</td>\n",
       "      <td>RL</td>\n",
       "      <td>84.0</td>\n",
       "      <td>14260</td>\n",
       "      <td>Pave</td>\n",
       "      <td>NaN</td>\n",
       "      <td>IR1</td>\n",
       "      <td>Lvl</td>\n",
       "      <td>AllPub</td>\n",
       "      <td>...</td>\n",
       "      <td>0</td>\n",
       "      <td>NaN</td>\n",
       "      <td>NaN</td>\n",
       "      <td>NaN</td>\n",
       "      <td>0</td>\n",
       "      <td>12</td>\n",
       "      <td>2008</td>\n",
       "      <td>WD</td>\n",
       "      <td>Normal</td>\n",
       "      <td>250000</td>\n",
       "    </tr>\n",
       "  </tbody>\n",
       "</table>\n",
       "<p>5 rows × 81 columns</p>\n",
       "</div>"
      ],
      "text/plain": [
       "   Id  MSSubClass MSZoning  LotFrontage  LotArea Street Alley LotShape  \\\n",
       "0   1          60       RL         65.0     8450   Pave   NaN      Reg   \n",
       "1   2          20       RL         80.0     9600   Pave   NaN      Reg   \n",
       "2   3          60       RL         68.0    11250   Pave   NaN      IR1   \n",
       "3   4          70       RL         60.0     9550   Pave   NaN      IR1   \n",
       "4   5          60       RL         84.0    14260   Pave   NaN      IR1   \n",
       "\n",
       "  LandContour Utilities  ... PoolArea PoolQC Fence MiscFeature MiscVal MoSold  \\\n",
       "0         Lvl    AllPub  ...        0    NaN   NaN         NaN       0      2   \n",
       "1         Lvl    AllPub  ...        0    NaN   NaN         NaN       0      5   \n",
       "2         Lvl    AllPub  ...        0    NaN   NaN         NaN       0      9   \n",
       "3         Lvl    AllPub  ...        0    NaN   NaN         NaN       0      2   \n",
       "4         Lvl    AllPub  ...        0    NaN   NaN         NaN       0     12   \n",
       "\n",
       "  YrSold  SaleType  SaleCondition  SalePrice  \n",
       "0   2008        WD         Normal     208500  \n",
       "1   2007        WD         Normal     181500  \n",
       "2   2008        WD         Normal     223500  \n",
       "3   2006        WD        Abnorml     140000  \n",
       "4   2008        WD         Normal     250000  \n",
       "\n",
       "[5 rows x 81 columns]"
      ]
     },
     "execution_count": 3,
     "metadata": {},
     "output_type": "execute_result"
    }
   ],
   "source": [
    "train = pd.read_csv(\"/kaggle/input/house-prices-advanced-regression-techniques/train.csv\")\n",
    "test = pd.read_csv(\"/kaggle/input/house-prices-advanced-regression-techniques/test.csv\")\n",
    "submission = pd.read_csv(\"/kaggle/input/house-prices-advanced-regression-techniques/sample_submission.csv\")\n",
    "\n",
    "print(\"Training data shape:\", train.shape)\n",
    "print(\"Test data shape:\", test.shape)\n",
    "train.head()\n"
   ]
  },
  {
   "cell_type": "markdown",
   "id": "97a7c508",
   "metadata": {
    "papermill": {
     "duration": 0.004129,
     "end_time": "2025-09-01T08:46:44.379090",
     "exception": false,
     "start_time": "2025-09-01T08:46:44.374961",
     "status": "completed"
    },
    "tags": []
   },
   "source": [
    "## 🔍 Exploratory Data Analysis  \n",
    "\n",
    "The dataset contains information about 1460 houses with 81 features. Some are numerical such as LotArea or OverallQual while others are categorical such as Neighborhood or Exterior. The target variable SalePrice is right skewed which means applying a logarithmic transformation will make it easier for models to learn patterns. Let us begin by checking missing values and then take a closer look at the target distribution.\n"
   ]
  },
  {
   "cell_type": "code",
   "execution_count": 4,
   "id": "c3e35ca1",
   "metadata": {
    "execution": {
     "iopub.execute_input": "2025-09-01T08:46:44.388899Z",
     "iopub.status.busy": "2025-09-01T08:46:44.388577Z",
     "iopub.status.idle": "2025-09-01T08:46:44.797413Z",
     "shell.execute_reply": "2025-09-01T08:46:44.796405Z"
    },
    "papermill": {
     "duration": 0.41555,
     "end_time": "2025-09-01T08:46:44.798950",
     "exception": false,
     "start_time": "2025-09-01T08:46:44.383400",
     "status": "completed"
    },
    "tags": []
   },
   "outputs": [
    {
     "data": {
      "image/png": "[encoded data removed]",
      "text/plain": [
       "<Figure size 800x500 with 1 Axes>"
      ]
     },
     "metadata": {},
     "output_type": "display_data"
    }
   ],
   "source": [
    "missing = train.isnull().sum()\n",
    "missing = missing[missing > 0].sort_values(ascending=False)\n",
    "plt.figure(figsize=(8,5))\n",
    "sns.barplot(x=missing.values, y=missing.index)\n",
    "plt.title(\"Top Missing Values in Training Data\")\n",
    "plt.show()\n"
   ]
  },
  {
   "cell_type": "code",
   "execution_count": 5,
   "id": "879f1b6a",
   "metadata": {
    "execution": {
     "iopub.execute_input": "2025-09-01T08:46:44.812607Z",
     "iopub.status.busy": "2025-09-01T08:46:44.811578Z",
     "iopub.status.idle": "2025-09-01T08:46:45.088469Z",
     "shell.execute_reply": "2025-09-01T08:46:45.087336Z"
    },
    "papermill": {
     "duration": 0.286125,
     "end_time": "2025-09-01T08:46:45.090417",
     "exception": false,
     "start_time": "2025-09-01T08:46:44.804292",
     "status": "completed"
    },
    "tags": []
   },
   "outputs": [
    {
     "data": {
      "image/png": "[encoded data removed]",
      "text/plain": [
       "<Figure size 600x400 with 1 Axes>"
      ]
     },
     "metadata": {},
     "output_type": "display_data"
    }
   ],
   "source": [
    "plt.figure(figsize=(6,4))\n",
    "sns.histplot(train[\"SalePrice\"], bins=30, kde=True)\n",
    "plt.title(\"SalePrice Distribution\")\n",
    "plt.show()\n"
   ]
  },
  {
   "cell_type": "markdown",
   "id": "6d22d955",
   "metadata": {
    "papermill": {
     "duration": 0.005456,
     "end_time": "2025-09-01T08:46:45.101849",
     "exception": false,
     "start_time": "2025-09-01T08:46:45.096393",
     "status": "completed"
    },
    "tags": []
   },
   "source": [
    "## 🛠 Feature Engineering  \n",
    "\n",
    "The dataset has many missing values. For numerical columns I will fill them with the median. For categorical columns I will use the most frequent value. Then I will log transform the SalePrice to reduce skewness.  \n",
    "\n",
    "Categorical features will be encoded into numeric form using LabelEncoder so that models can handle them. Finally the features will be standardized with StandardScaler to bring them to a similar scale.\n"
   ]
  },
  {
   "cell_type": "code",
   "execution_count": 6,
   "id": "64c6bab4",
   "metadata": {
    "execution": {
     "iopub.execute_input": "2025-09-01T08:46:45.114174Z",
     "iopub.status.busy": "2025-09-01T08:46:45.113824Z",
     "iopub.status.idle": "2025-09-01T08:46:45.243005Z",
     "shell.execute_reply": "2025-09-01T08:46:45.242187Z"
    },
    "papermill": {
     "duration": 0.137288,
     "end_time": "2025-09-01T08:46:45.244743",
     "exception": false,
     "start_time": "2025-09-01T08:46:45.107455",
     "status": "completed"
    },
    "tags": []
   },
   "outputs": [],
   "source": [
    "# Save target separately\n",
    "y = train[\"SalePrice\"]\n",
    "X = train.drop(\"SalePrice\", axis=1)\n",
    "\n",
    "# Concatenate train and test for consistent preprocessing\n",
    "all_data = pd.concat([X, test], axis=0)\n",
    "\n",
    "# Fill missing values\n",
    "for col in all_data.columns:\n",
    "    if all_data[col].dtype == \"object\":\n",
    "        all_data[col] = all_data[col].fillna(all_data[col].mode()[0])\n",
    "    else:\n",
    "        all_data[col] = all_data[col].fillna(all_data[col].median())\n",
    "\n",
    "# Encode categorical features\n",
    "for col in all_data.columns:\n",
    "    if all_data[col].dtype == \"object\":\n",
    "        le = LabelEncoder()\n",
    "        all_data[col] = le.fit_transform(all_data[col])\n",
    "\n",
    "# Split back\n",
    "X = all_data.iloc[:len(train), :]\n",
    "X_test = all_data.iloc[len(train):, :]\n",
    "\n",
    "# Scale features\n",
    "scaler = StandardScaler()\n",
    "X_scaled = scaler.fit_transform(X)\n",
    "X_test_scaled = scaler.transform(X_test)\n",
    "\n",
    "# Log transform target\n",
    "y_log = np.log1p(y)\n"
   ]
  },
  {
   "cell_type": "markdown",
   "id": "81530557",
   "metadata": {
    "papermill": {
     "duration": 0.005457,
     "end_time": "2025-09-01T08:46:45.256056",
     "exception": false,
     "start_time": "2025-09-01T08:46:45.250599",
     "status": "completed"
    },
    "tags": []
   },
   "source": [
    "## 🤖 Model Training  \n",
    "\n",
    "I will begin with Linear Regression as a baseline. Then I will train Ridge and Lasso regression which include regularization to handle multicollinearity. Random Forest and XGBoost will also be tested since they often perform well on tabular data.  \n",
    "\n",
    "Evaluation will be done using Root Mean Squared Error (RMSE) with cross-validation. Lower RMSE means better performance.\n"
   ]
  },
  {
   "cell_type": "code",
   "execution_count": 7,
   "id": "6ab8af17",
   "metadata": {
    "execution": {
     "iopub.execute_input": "2025-09-01T08:46:45.268480Z",
     "iopub.status.busy": "2025-09-01T08:46:45.268177Z",
     "iopub.status.idle": "2025-09-01T08:47:07.353686Z",
     "shell.execute_reply": "2025-09-01T08:47:07.352051Z"
    },
    "papermill": {
     "duration": 22.093431,
     "end_time": "2025-09-01T08:47:07.355096",
     "exception": false,
     "start_time": "2025-09-01T08:46:45.261665",
     "status": "completed"
    },
    "tags": []
   },
   "outputs": [
    {
     "name": "stdout",
     "output_type": "stream",
     "text": [
      "Linear Regression: RMSE = 18221065687.9722\n",
      "Ridge: RMSE = 0.1527\n",
      "Lasso: RMSE = 0.1494\n",
      "Random Forest: RMSE = 0.1422\n",
      "XGBoost: RMSE = 0.1259\n"
     ]
    }
   ],
   "source": [
    "models = {\n",
    "    \"Linear Regression\": LinearRegression(),\n",
    "    \"Ridge\": Ridge(alpha=10),\n",
    "    \"Lasso\": Lasso(alpha=0.001),\n",
    "    \"Random Forest\": RandomForestRegressor(n_estimators=200, random_state=42),\n",
    "    \"XGBoost\": XGBRegressor(n_estimators=500, learning_rate=0.05, max_depth=4, random_state=42)\n",
    "}\n",
    "\n",
    "results = {}\n",
    "\n",
    "for name, model in models.items():\n",
    "    scores = -cross_val_score(model, X_scaled, y_log, cv=5, scoring=\"neg_root_mean_squared_error\")\n",
    "    results[name] = scores.mean()\n",
    "    print(f\"{name}: RMSE = {scores.mean():.4f}\")\n"
   ]
  },
  {
   "cell_type": "markdown",
   "id": "647806e2",
   "metadata": {
    "papermill": {
     "duration": 0.006551,
     "end_time": "2025-09-01T08:47:07.369120",
     "exception": false,
     "start_time": "2025-09-01T08:47:07.362569",
     "status": "completed"
    },
    "tags": []
   },
   "source": [
    "## 📊 Model Comparison  \n",
    "\n",
    "The results below show which models performed best. I will visualize them for clarity.\n"
   ]
  },
  {
   "cell_type": "code",
   "execution_count": 8,
   "id": "07bd116b",
   "metadata": {
    "execution": {
     "iopub.execute_input": "2025-09-01T08:47:07.382076Z",
     "iopub.status.busy": "2025-09-01T08:47:07.381727Z",
     "iopub.status.idle": "2025-09-01T08:47:07.552278Z",
     "shell.execute_reply": "2025-09-01T08:47:07.551226Z"
    },
    "papermill": {
     "duration": 0.178896,
     "end_time": "2025-09-01T08:47:07.553702",
     "exception": false,
     "start_time": "2025-09-01T08:47:07.374806",
     "status": "completed"
    },
    "tags": []
   },
   "outputs": [
    {
     "data": {
      "image/png": "[encoded data removed]",
      "text/plain": [
       "<Figure size 700x400 with 1 Axes>"
      ]
     },
     "metadata": {},
     "output_type": "display_data"
    },
    {
     "data": {
      "text/html": [
       "<div>\n",
       "<style scoped>\n",
       "    .dataframe tbody tr th:only-of-type {\n",
       "        vertical-align: middle;\n",
       "    }\n",
       "\n",
       "    .dataframe tbody tr th {\n",
       "        vertical-align: top;\n",
       "    }\n",
       "\n",
       "    .dataframe thead th {\n",
       "        text-align: right;\n",
       "    }\n",
       "</style>\n",
       "<table border=\"1\" class=\"dataframe\">\n",
       "  <thead>\n",
       "    <tr style=\"text-align: right;\">\n",
       "      <th></th>\n",
       "      <th>RMSE</th>\n",
       "    </tr>\n",
       "  </thead>\n",
       "  <tbody>\n",
       "    <tr>\n",
       "      <th>XGBoost</th>\n",
       "      <td>1.258964e-01</td>\n",
       "    </tr>\n",
       "    <tr>\n",
       "      <th>Random Forest</th>\n",
       "      <td>1.421768e-01</td>\n",
       "    </tr>\n",
       "    <tr>\n",
       "      <th>Lasso</th>\n",
       "      <td>1.493802e-01</td>\n",
       "    </tr>\n",
       "    <tr>\n",
       "      <th>Ridge</th>\n",
       "      <td>1.527497e-01</td>\n",
       "    </tr>\n",
       "    <tr>\n",
       "      <th>Linear Regression</th>\n",
       "      <td>1.822107e+10</td>\n",
       "    </tr>\n",
       "  </tbody>\n",
       "</table>\n",
       "</div>"
      ],
      "text/plain": [
       "                           RMSE\n",
       "XGBoost            1.258964e-01\n",
       "Random Forest      1.421768e-01\n",
       "Lasso              1.493802e-01\n",
       "Ridge              1.527497e-01\n",
       "Linear Regression  1.822107e+10"
      ]
     },
     "execution_count": 8,
     "metadata": {},
     "output_type": "execute_result"
    }
   ],
   "source": [
    "results_df = pd.DataFrame.from_dict(results, orient=\"index\", columns=[\"RMSE\"])\n",
    "results_df.sort_values(by=\"RMSE\", inplace=True)\n",
    "\n",
    "plt.figure(figsize=(7,4))\n",
    "sns.barplot(x=results_df[\"RMSE\"], y=results_df.index)\n",
    "plt.title(\"Model Performance Comparison (lower is better)\")\n",
    "plt.show()\n",
    "\n",
    "results_df\n"
   ]
  },
  {
   "cell_type": "markdown",
   "id": "9d0fa45d",
   "metadata": {
    "execution": {
     "iopub.execute_input": "2025-09-01T08:34:10.187858Z",
     "iopub.status.busy": "2025-09-01T08:34:10.187400Z",
     "iopub.status.idle": "2025-09-01T08:34:10.196681Z",
     "shell.execute_reply": "2025-09-01T08:34:10.195007Z",
     "shell.execute_reply.started": "2025-09-01T08:34:10.187824Z"
    },
    "papermill": {
     "duration": 0.006583,
     "end_time": "2025-09-01T08:47:07.567064",
     "exception": false,
     "start_time": "2025-09-01T08:47:07.560481",
     "status": "completed"
    },
    "tags": []
   },
   "source": [
    "## 🏆 Final Model and Submission  \n",
    "\n",
    "Based on cross validation scores I will use XGBoost for the final predictions. The model will be trained on the full training data and predictions will be generated for the test set. Since we log transformed the target earlier, we will apply the exponential transformation to bring predictions back to the original scale.\n"
   ]
  },
  {
   "cell_type": "code",
   "execution_count": 9,
   "id": "0f629233",
   "metadata": {
    "execution": {
     "iopub.execute_input": "2025-09-01T08:47:07.582042Z",
     "iopub.status.busy": "2025-09-01T08:47:07.581706Z",
     "iopub.status.idle": "2025-09-01T08:47:08.160546Z",
     "shell.execute_reply": "2025-09-01T08:47:08.159544Z"
    },
    "papermill": {
     "duration": 0.588367,
     "end_time": "2025-09-01T08:47:08.162273",
     "exception": false,
     "start_time": "2025-09-01T08:47:07.573906",
     "status": "completed"
    },
    "tags": []
   },
   "outputs": [
    {
     "name": "stdout",
     "output_type": "stream",
     "text": [
      "Submission file created: (1459, 2)\n"
     ]
    },
    {
     "data": {
      "text/html": [
       "<div>\n",
       "<style scoped>\n",
       "    .dataframe tbody tr th:only-of-type {\n",
       "        vertical-align: middle;\n",
       "    }\n",
       "\n",
       "    .dataframe tbody tr th {\n",
       "        vertical-align: top;\n",
       "    }\n",
       "\n",
       "    .dataframe thead th {\n",
       "        text-align: right;\n",
       "    }\n",
       "</style>\n",
       "<table border=\"1\" class=\"dataframe\">\n",
       "  <thead>\n",
       "    <tr style=\"text-align: right;\">\n",
       "      <th></th>\n",
       "      <th>Id</th>\n",
       "      <th>SalePrice</th>\n",
       "    </tr>\n",
       "  </thead>\n",
       "  <tbody>\n",
       "    <tr>\n",
       "      <th>0</th>\n",
       "      <td>1461</td>\n",
       "      <td>121089.703125</td>\n",
       "    </tr>\n",
       "    <tr>\n",
       "      <th>1</th>\n",
       "      <td>1462</td>\n",
       "      <td>147800.500000</td>\n",
       "    </tr>\n",
       "    <tr>\n",
       "      <th>2</th>\n",
       "      <td>1463</td>\n",
       "      <td>187257.703125</td>\n",
       "    </tr>\n",
       "    <tr>\n",
       "      <th>3</th>\n",
       "      <td>1464</td>\n",
       "      <td>187934.687500</td>\n",
       "    </tr>\n",
       "    <tr>\n",
       "      <th>4</th>\n",
       "      <td>1465</td>\n",
       "      <td>174386.734375</td>\n",
       "    </tr>\n",
       "  </tbody>\n",
       "</table>\n",
       "</div>"
      ],
      "text/plain": [
       "     Id      SalePrice\n",
       "0  1461  121089.703125\n",
       "1  1462  147800.500000\n",
       "2  1463  187257.703125\n",
       "3  1464  187934.687500\n",
       "4  1465  174386.734375"
      ]
     },
     "execution_count": 9,
     "metadata": {},
     "output_type": "execute_result"
    }
   ],
   "source": [
    "final_model = XGBRegressor(n_estimators=500, learning_rate=0.05, max_depth=4, random_state=42)\n",
    "final_model.fit(X_scaled, y_log)\n",
    "\n",
    "preds = final_model.predict(X_test_scaled)\n",
    "preds_exp = np.expm1(preds)\n",
    "\n",
    "final_submission = pd.DataFrame({\n",
    "    \"Id\": submission[\"Id\"],\n",
    "    \"SalePrice\": preds_exp\n",
    "})\n",
    "\n",
    "final_submission.to_csv(\"submission.csv\", index=False)\n",
    "print(\"Submission file created:\", final_submission.shape)\n",
    "final_submission.head()\n"
   ]
  },
  {
   "cell_type": "markdown",
   "id": "37c891f9",
   "metadata": {
    "papermill": {
     "duration": 0.006848,
     "end_time": "2025-09-01T08:47:08.177448",
     "exception": false,
     "start_time": "2025-09-01T08:47:08.170600",
     "status": "completed"
    },
    "tags": []
   },
   "source": [
    "## ✨ Conclusion  \n",
    "\n",
    "We explored the House Prices dataset and handled missing values, categorical encoding and scaling. Multiple models were trained and compared using RMSE.  \n",
    "\n",
    "XGBoost achieved the best performance and was used for the final submission. This notebook shows how different parts of the machine learning pipeline come together in a regression problem.  \n",
    "\n",
    "The next steps could include more advanced feature engineering, hyperparameter tuning and stacking models. But for now this provides a complete end to end workflow for predicting house prices.\n"
   ]
  },
  {
   "cell_type": "markdown",
   "id": "a3eefa2a",
   "metadata": {
    "papermill": {
     "duration": 0.006816,
     "end_time": "2025-09-01T08:47:08.191391",
     "exception": false,
     "start_time": "2025-09-01T08:47:08.184575",
     "status": "completed"
    },
    "tags": []
   },
   "source": []
  }
 ],
 "metadata": {
  "kaggle": {
   "accelerator": "none",
   "dataSources": [
    {
     "databundleVersionId": 868283,
     "sourceId": 5407,
     "sourceType": "competition"
    }
   ],
   "dockerImageVersionId": 31089,
   "isGpuEnabled": false,
   "isInternetEnabled": true,
   "language": "python",
   "sourceType": "notebook"
  },
  "kernelspec": {
   "display_name": "Python 3",
   "language": "python",
   "name": "python3"
  },
  "language_info": {
   "codemirror_mode": {
    "name": "ipython",
    "version": 3
   },
   "file_extension": ".py",
   "mimetype": "text/x-python",
   "name": "python",
   "nbconvert_exporter": "python",
   "pygments_lexer": "ipython3",
   "version": "3.11.13"
  },
  "papermill": {
   "default_parameters": {},
   "duration": 35.151904,
   "end_time": "2025-09-01T08:47:09.019218",
   "environment_variables": {},
   "exception": null,
   "input_path": "__notebook__.ipynb",
   "output_path": "__notebook__.ipynb",
   "parameters": {},
   "start_time": "2025-09-01T08:46:33.867314",
   "version": "2.6.0"
  }
 },
 "nbformat": 4,
 "nbformat_minor": 5
}
