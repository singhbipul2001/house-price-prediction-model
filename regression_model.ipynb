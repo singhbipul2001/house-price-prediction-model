{
 "cells": [
  {
   "cell_type": "markdown",
   "id": "7060e520",
   "metadata": {},
   "source": [
    "# **House Price** Prediction Using Tensor Flow Decision Forest \n",
    "This notebook walks you through how to train a baseline Random Forest model using TensorFlow Decision Forests on the House Prices dataset made available for this competition.\n",
    "\n",
    "Roughly, the code will look as follows:\n",
    "\n",
    "```\n",
    "import tensorflow_decision_forests as tfdf\n",
    "import pandas as pd\n",
    "\n",
    "dataset = pd.read_csv(\"project/dataset.csv\")\n",
    "tf_dataset = tfdf.keras.pd_dataframe_to_tf_dataset(dataset, label=\"my_label\")\n",
    "\n",
    "model = tfdf.keras.RandomForestModel()\n",
    "model.fit(tf_dataset)\n",
    "\n",
    "print(model.summary())\n",
    "```\n",
    "\n",
    "Decision Forests are a family of tree-based models including Random Forests and Gradient Boosted Trees. They are the best place to start when working with tabular data, and will often outperform (or provide a strong baseline) before you begin experimenting with neural networks."
   ]
  },
  {
   "cell_type": "code",
   "execution_count": 8,
   "id": "29ff0f55",
   "metadata": {},
   "outputs": [
    {
     "name": "stdout",
     "output_type": "stream",
     "text": [
      "All necessary libraries imported successfully.\n"
     ]
    }
   ],
   "source": [
    "import pandas as pd\n",
    "import numpy as np\n",
    "import matplotlib.pyplot as plt\n",
    "import seaborn as sns\n",
    "\n",
    "from sklearn.model_selection import train_test_split, cross_val_score\n",
    "from sklearn.preprocessing import StandardScaler, LabelEncoder\n",
    "from sklearn.linear_model import LinearRegression, Ridge, Lasso\n",
    "from sklearn.ensemble import RandomForestRegressor\n",
    "from xgboost import XGBRegressor\n",
    "\n",
    "from sklearn.metrics import mean_squared_error\n",
    "import warnings\n",
    "warnings.filterwarnings(\"ignore\")\n",
    "# Removed any import or usage of numpy.strings as it does not exist.\n",
    "print(\"All necessary libraries imported successfully.\")"
   ]
  },
  {
   "cell_type": "markdown",
   "id": "ad7b2c14",
   "metadata": {},
   "source": [
    "# Loading the Dataset\n",
    "\n",
    "In this cell, we load three CSV files from the `Data` directory:\n",
    "\n",
    "- **train.csv**: Training dataset for model development\n",
    "- **test.csv**: Testing dataset for making predictions\n",
    "- **sample_submission.csv**: Sample submission format for predictions\n",
    "\n",
    "The datasets are loaded using pandas' `read_csv()` function. This will create three DataFrames:\n",
    "- `train`: Contains the training data with features and target variable\n",
    "- `test`: Contains the test data with features only\n",
    "- `submission`: Contains the format for submitting predictions"
   ]
  },
  {
   "cell_type": "code",
   "execution_count": 9,
   "id": "370a1bfb",
   "metadata": {},
   "outputs": [
    {
     "name": "stdout",
     "output_type": "stream",
     "text": [
      "Data loaded successfully.\n",
      "trainging data shape (1460, 81)\n",
      "testing data shape (1459, 80)\n",
      "submission data shape (1459, 2)\n"
     ]
    }
   ],
   "source": [
    "train = pd.read_csv('./Data/train.csv')\n",
    "test = pd.read_csv('./Data/test.csv')\n",
    "submission = pd.read_csv('./Data/sample_submission.csv')\n",
    "print(\"Data loaded successfully.\")\n",
    "print(\"trainging data shape\",train.shape)\n",
    "print(\"testing data shape\",test.shape)\n",
    "print(\"submission data shape\",submission.shape)"
   ]
  },
  {
   "cell_type": "code",
   "execution_count": 10,
   "id": "ed8172e7",
   "metadata": {},
   "outputs": [
    {
     "data": {
      "application/vnd.microsoft.datawrangler.viewer.v0+json": {
       "columns": [
        {
         "name": "index",
         "rawType": "int64",
         "type": "integer"
        },
        {
         "name": "Id",
         "rawType": "int64",
         "type": "integer"
        },
        {
         "name": "MSSubClass",
         "rawType": "int64",
         "type": "integer"
        },
        {
         "name": "MSZoning",
         "rawType": "object",
         "type": "string"
        },
        {
         "name": "LotFrontage",
         "rawType": "float64",
         "type": "float"
        },
        {
         "name": "LotArea",
         "rawType": "int64",
         "type": "integer"
        },
        {
         "name": "Street",
         "rawType": "object",
         "type": "string"
        },
        {
         "name": "Alley",
         "rawType": "object",
         "type": "unknown"
        },
        {
         "name": "LotShape",
         "rawType": "object",
         "type": "string"
        },
        {
         "name": "LandContour",
         "rawType": "object",
         "type": "string"
        },
        {
         "name": "Utilities",
         "rawType": "object",
         "type": "string"
        },
        {
         "name": "LotConfig",
         "rawType": "object",
         "type": "string"
        },
        {
         "name": "LandSlope",
         "rawType": "object",
         "type": "string"
        },
        {
         "name": "Neighborhood",
         "rawType": "object",
         "type": "string"
        },
        {
         "name": "Condition1",
         "rawType": "object",
         "type": "string"
        },
        {
         "name": "Condition2",
         "rawType": "object",
         "type": "string"
        },
        {
         "name": "BldgType",
         "rawType": "object",
         "type": "string"
        },
        {
         "name": "HouseStyle",
         "rawType": "object",
         "type": "string"
        },
        {
         "name": "OverallQual",
         "rawType": "int64",
         "type": "integer"
        },
        {
         "name": "OverallCond",
         "rawType": "int64",
         "type": "integer"
        },
        {
         "name": "YearBuilt",
         "rawType": "int64",
         "type": "integer"
        },
        {
         "name": "YearRemodAdd",
         "rawType": "int64",
         "type": "integer"
        },
        {
         "name": "RoofStyle",
         "rawType": "object",
         "type": "string"
        },
        {
         "name": "RoofMatl",
         "rawType": "object",
         "type": "string"
        },
        {
         "name": "Exterior1st",
         "rawType": "object",
         "type": "string"
        },
        {
         "name": "Exterior2nd",
         "rawType": "object",
         "type": "string"
        },
        {
         "name": "MasVnrType",
         "rawType": "object",
         "type": "unknown"
        },
        {
         "name": "MasVnrArea",
         "rawType": "float64",
         "type": "float"
        },
        {
         "name": "ExterQual",
         "rawType": "object",
         "type": "string"
        },
        {
         "name": "ExterCond",
         "rawType": "object",
         "type": "string"
        },
        {
         "name": "Foundation",
         "rawType": "object",
         "type": "string"
        },
        {
         "name": "BsmtQual",
         "rawType": "object",
         "type": "string"
        },
        {
         "name": "BsmtCond",
         "rawType": "object",
         "type": "string"
        },
        {
         "name": "BsmtExposure",
         "rawType": "object",
         "type": "string"
        },
        {
         "name": "BsmtFinType1",
         "rawType": "object",
         "type": "string"
        },
        {
         "name": "BsmtFinSF1",
         "rawType": "int64",
         "type": "integer"
        },
        {
         "name": "BsmtFinType2",
         "rawType": "object",
         "type": "string"
        },
        {
         "name": "BsmtFinSF2",
         "rawType": "int64",
         "type": "integer"
        },
        {
         "name": "BsmtUnfSF",
         "rawType": "int64",
         "type": "integer"
        },
        {
         "name": "TotalBsmtSF",
         "rawType": "int64",
         "type": "integer"
        },
        {
         "name": "Heating",
         "rawType": "object",
         "type": "string"
        },
        {
         "name": "HeatingQC",
         "rawType": "object",
         "type": "string"
        },
        {
         "name": "CentralAir",
         "rawType": "object",
         "type": "string"
        },
        {
         "name": "Electrical",
         "rawType": "object",
         "type": "string"
        },
        {
         "name": "1stFlrSF",
         "rawType": "int64",
         "type": "integer"
        },
        {
         "name": "2ndFlrSF",
         "rawType": "int64",
         "type": "integer"
        },
        {
         "name": "LowQualFinSF",
         "rawType": "int64",
         "type": "integer"
        },
        {
         "name": "GrLivArea",
         "rawType": "int64",
         "type": "integer"
        },
        {
         "name": "BsmtFullBath",
         "rawType": "int64",
         "type": "integer"
        },
        {
         "name": "BsmtHalfBath",
         "rawType": "int64",
         "type": "integer"
        },
        {
         "name": "FullBath",
         "rawType": "int64",
         "type": "integer"
        },
        {
         "name": "HalfBath",
         "rawType": "int64",
         "type": "integer"
        },
        {
         "name": "BedroomAbvGr",
         "rawType": "int64",
         "type": "integer"
        },
        {
         "name": "KitchenAbvGr",
         "rawType": "int64",
         "type": "integer"
        },
        {
         "name": "KitchenQual",
         "rawType": "object",
         "type": "string"
        },
        {
         "name": "TotRmsAbvGrd",
         "rawType": "int64",
         "type": "integer"
        },
        {
         "name": "Functional",
         "rawType": "object",
         "type": "string"
        },
        {
         "name": "Fireplaces",
         "rawType": "int64",
         "type": "integer"
        },
        {
         "name": "FireplaceQu",
         "rawType": "object",
         "type": "unknown"
        },
        {
         "name": "GarageType",
         "rawType": "object",
         "type": "string"
        },
        {
         "name": "GarageYrBlt",
         "rawType": "float64",
         "type": "float"
        },
        {
         "name": "GarageFinish",
         "rawType": "object",
         "type": "string"
        },
        {
         "name": "GarageCars",
         "rawType": "int64",
         "type": "integer"
        },
        {
         "name": "GarageArea",
         "rawType": "int64",
         "type": "integer"
        },
        {
         "name": "GarageQual",
         "rawType": "object",
         "type": "string"
        },
        {
         "name": "GarageCond",
         "rawType": "object",
         "type": "string"
        },
        {
         "name": "PavedDrive",
         "rawType": "object",
         "type": "string"
        },
        {
         "name": "WoodDeckSF",
         "rawType": "int64",
         "type": "integer"
        },
        {
         "name": "OpenPorchSF",
         "rawType": "int64",
         "type": "integer"
        },
        {
         "name": "EnclosedPorch",
         "rawType": "int64",
         "type": "integer"
        },
        {
         "name": "3SsnPorch",
         "rawType": "int64",
         "type": "integer"
        },
        {
         "name": "ScreenPorch",
         "rawType": "int64",
         "type": "integer"
        },
        {
         "name": "PoolArea",
         "rawType": "int64",
         "type": "integer"
        },
        {
         "name": "PoolQC",
         "rawType": "object",
         "type": "unknown"
        },
        {
         "name": "Fence",
         "rawType": "object",
         "type": "unknown"
        },
        {
         "name": "MiscFeature",
         "rawType": "object",
         "type": "unknown"
        },
        {
         "name": "MiscVal",
         "rawType": "int64",
         "type": "integer"
        },
        {
         "name": "MoSold",
         "rawType": "int64",
         "type": "integer"
        },
        {
         "name": "YrSold",
         "rawType": "int64",
         "type": "integer"
        },
        {
         "name": "SaleType",
         "rawType": "object",
         "type": "string"
        },
        {
         "name": "SaleCondition",
         "rawType": "object",
         "type": "string"
        },
        {
         "name": "SalePrice",
         "rawType": "int64",
         "type": "integer"
        }
       ],
       "ref": "6dc10394-f87b-4372-9e7f-a52be31e3ca6",
       "rows": [
        [
         "0",
         "1",
         "60",
         "RL",
         "65.0",
         "8450",
         "Pave",
         null,
         "Reg",
         "Lvl",
         "AllPub",
         "Inside",
         "Gtl",
         "CollgCr",
         "Norm",
         "Norm",
         "1Fam",
         "2Story",
         "7",
         "5",
         "2003",
         "2003",
         "Gable",
         "CompShg",
         "VinylSd",
         "VinylSd",
         "BrkFace",
         "196.0",
         "Gd",
         "TA",
         "PConc",
         "Gd",
         "TA",
         "No",
         "GLQ",
         "706",
         "Unf",
         "0",
         "150",
         "856",
         "GasA",
         "Ex",
         "Y",
         "SBrkr",
         "856",
         "854",
         "0",
         "1710",
         "1",
         "0",
         "2",
         "1",
         "3",
         "1",
         "Gd",
         "8",
         "Typ",
         "0",
         null,
         "Attchd",
         "2003.0",
         "RFn",
         "2",
         "548",
         "TA",
         "TA",
         "Y",
         "0",
         "61",
         "0",
         "0",
         "0",
         "0",
         null,
         null,
         null,
         "0",
         "2",
         "2008",
         "WD",
         "Normal",
         "208500"
        ],
        [
         "1",
         "2",
         "20",
         "RL",
         "80.0",
         "9600",
         "Pave",
         null,
         "Reg",
         "Lvl",
         "AllPub",
         "FR2",
         "Gtl",
         "Veenker",
         "Feedr",
         "Norm",
         "1Fam",
         "1Story",
         "6",
         "8",
         "1976",
         "1976",
         "Gable",
         "CompShg",
         "MetalSd",
         "MetalSd",
         null,
         "0.0",
         "TA",
         "TA",
         "CBlock",
         "Gd",
         "TA",
         "Gd",
         "ALQ",
         "978",
         "Unf",
         "0",
         "284",
         "1262",
         "GasA",
         "Ex",
         "Y",
         "SBrkr",
         "1262",
         "0",
         "0",
         "1262",
         "0",
         "1",
         "2",
         "0",
         "3",
         "1",
         "TA",
         "6",
         "Typ",
         "1",
         "TA",
         "Attchd",
         "1976.0",
         "RFn",
         "2",
         "460",
         "TA",
         "TA",
         "Y",
         "298",
         "0",
         "0",
         "0",
         "0",
         "0",
         null,
         null,
         null,
         "0",
         "5",
         "2007",
         "WD",
         "Normal",
         "181500"
        ],
        [
         "2",
         "3",
         "60",
         "RL",
         "68.0",
         "11250",
         "Pave",
         null,
         "IR1",
         "Lvl",
         "AllPub",
         "Inside",
         "Gtl",
         "CollgCr",
         "Norm",
         "Norm",
         "1Fam",
         "2Story",
         "7",
         "5",
         "2001",
         "2002",
         "Gable",
         "CompShg",
         "VinylSd",
         "VinylSd",
         "BrkFace",
         "162.0",
         "Gd",
         "TA",
         "PConc",
         "Gd",
         "TA",
         "Mn",
         "GLQ",
         "486",
         "Unf",
         "0",
         "434",
         "920",
         "GasA",
         "Ex",
         "Y",
         "SBrkr",
         "920",
         "866",
         "0",
         "1786",
         "1",
         "0",
         "2",
         "1",
         "3",
         "1",
         "Gd",
         "6",
         "Typ",
         "1",
         "TA",
         "Attchd",
         "2001.0",
         "RFn",
         "2",
         "608",
         "TA",
         "TA",
         "Y",
         "0",
         "42",
         "0",
         "0",
         "0",
         "0",
         null,
         null,
         null,
         "0",
         "9",
         "2008",
         "WD",
         "Normal",
         "223500"
        ],
        [
         "3",
         "4",
         "70",
         "RL",
         "60.0",
         "9550",
         "Pave",
         null,
         "IR1",
         "Lvl",
         "AllPub",
         "Corner",
         "Gtl",
         "Crawfor",
         "Norm",
         "Norm",
         "1Fam",
         "2Story",
         "7",
         "5",
         "1915",
         "1970",
         "Gable",
         "CompShg",
         "Wd Sdng",
         "Wd Shng",
         null,
         "0.0",
         "TA",
         "TA",
         "BrkTil",
         "TA",
         "Gd",
         "No",
         "ALQ",
         "216",
         "Unf",
         "0",
         "540",
         "756",
         "GasA",
         "Gd",
         "Y",
         "SBrkr",
         "961",
         "756",
         "0",
         "1717",
         "1",
         "0",
         "1",
         "0",
         "3",
         "1",
         "Gd",
         "7",
         "Typ",
         "1",
         "Gd",
         "Detchd",
         "1998.0",
         "Unf",
         "3",
         "642",
         "TA",
         "TA",
         "Y",
         "0",
         "35",
         "272",
         "0",
         "0",
         "0",
         null,
         null,
         null,
         "0",
         "2",
         "2006",
         "WD",
         "Abnorml",
         "140000"
        ],
        [
         "4",
         "5",
         "60",
         "RL",
         "84.0",
         "14260",
         "Pave",
         null,
         "IR1",
         "Lvl",
         "AllPub",
         "FR2",
         "Gtl",
         "NoRidge",
         "Norm",
         "Norm",
         "1Fam",
         "2Story",
         "8",
         "5",
         "2000",
         "2000",
         "Gable",
         "CompShg",
         "VinylSd",
         "VinylSd",
         "BrkFace",
         "350.0",
         "Gd",
         "TA",
         "PConc",
         "Gd",
         "TA",
         "Av",
         "GLQ",
         "655",
         "Unf",
         "0",
         "490",
         "1145",
         "GasA",
         "Ex",
         "Y",
         "SBrkr",
         "1145",
         "1053",
         "0",
         "2198",
         "1",
         "0",
         "2",
         "1",
         "4",
         "1",
         "Gd",
         "9",
         "Typ",
         "1",
         "TA",
         "Attchd",
         "2000.0",
         "RFn",
         "3",
         "836",
         "TA",
         "TA",
         "Y",
         "192",
         "84",
         "0",
         "0",
         "0",
         "0",
         null,
         null,
         null,
         "0",
         "12",
         "2008",
         "WD",
         "Normal",
         "250000"
        ]
       ],
       "shape": {
        "columns": 81,
        "rows": 5
       }
      },
      "text/html": [
       "<div>\n",
       "<style scoped>\n",
       "    .dataframe tbody tr th:only-of-type {\n",
       "        vertical-align: middle;\n",
       "    }\n",
       "\n",
       "    .dataframe tbody tr th {\n",
       "        vertical-align: top;\n",
       "    }\n",
       "\n",
       "    .dataframe thead th {\n",
       "        text-align: right;\n",
       "    }\n",
       "</style>\n",
       "<table border=\"1\" class=\"dataframe\">\n",
       "  <thead>\n",
       "    <tr style=\"text-align: right;\">\n",
       "      <th></th>\n",
       "      <th>Id</th>\n",
       "      <th>MSSubClass</th>\n",
       "      <th>MSZoning</th>\n",
       "      <th>LotFrontage</th>\n",
       "      <th>LotArea</th>\n",
       "      <th>Street</th>\n",
       "      <th>Alley</th>\n",
       "      <th>LotShape</th>\n",
       "      <th>LandContour</th>\n",
       "      <th>Utilities</th>\n",
       "      <th>...</th>\n",
       "      <th>PoolArea</th>\n",
       "      <th>PoolQC</th>\n",
       "      <th>Fence</th>\n",
       "      <th>MiscFeature</th>\n",
       "      <th>MiscVal</th>\n",
       "      <th>MoSold</th>\n",
       "      <th>YrSold</th>\n",
       "      <th>SaleType</th>\n",
       "      <th>SaleCondition</th>\n",
       "      <th>SalePrice</th>\n",
       "    </tr>\n",
       "  </thead>\n",
       "  <tbody>\n",
       "    <tr>\n",
       "      <th>0</th>\n",
       "      <td>1</td>\n",
       "      <td>60</td>\n",
       "      <td>RL</td>\n",
       "      <td>65.0</td>\n",
       "      <td>8450</td>\n",
       "      <td>Pave</td>\n",
       "      <td>NaN</td>\n",
       "      <td>Reg</td>\n",
       "      <td>Lvl</td>\n",
       "      <td>AllPub</td>\n",
       "      <td>...</td>\n",
       "      <td>0</td>\n",
       "      <td>NaN</td>\n",
       "      <td>NaN</td>\n",
       "      <td>NaN</td>\n",
       "      <td>0</td>\n",
       "      <td>2</td>\n",
       "      <td>2008</td>\n",
       "      <td>WD</td>\n",
       "      <td>Normal</td>\n",
       "      <td>208500</td>\n",
       "    </tr>\n",
       "    <tr>\n",
       "      <th>1</th>\n",
       "      <td>2</td>\n",
       "      <td>20</td>\n",
       "      <td>RL</td>\n",
       "      <td>80.0</td>\n",
       "      <td>9600</td>\n",
       "      <td>Pave</td>\n",
       "      <td>NaN</td>\n",
       "      <td>Reg</td>\n",
       "      <td>Lvl</td>\n",
       "      <td>AllPub</td>\n",
       "      <td>...</td>\n",
       "      <td>0</td>\n",
       "      <td>NaN</td>\n",
       "      <td>NaN</td>\n",
       "      <td>NaN</td>\n",
       "      <td>0</td>\n",
       "      <td>5</td>\n",
       "      <td>2007</td>\n",
       "      <td>WD</td>\n",
       "      <td>Normal</td>\n",
       "      <td>181500</td>\n",
       "    </tr>\n",
       "    <tr>\n",
       "      <th>2</th>\n",
       "      <td>3</td>\n",
       "      <td>60</td>\n",
       "      <td>RL</td>\n",
       "      <td>68.0</td>\n",
       "      <td>11250</td>\n",
       "      <td>Pave</td>\n",
       "      <td>NaN</td>\n",
       "      <td>IR1</td>\n",
       "      <td>Lvl</td>\n",
       "      <td>AllPub</td>\n",
       "      <td>...</td>\n",
       "      <td>0</td>\n",
       "      <td>NaN</td>\n",
       "      <td>NaN</td>\n",
       "      <td>NaN</td>\n",
       "      <td>0</td>\n",
       "      <td>9</td>\n",
       "      <td>2008</td>\n",
       "      <td>WD</td>\n",
       "      <td>Normal</td>\n",
       "      <td>223500</td>\n",
       "    </tr>\n",
       "    <tr>\n",
       "      <th>3</th>\n",
       "      <td>4</td>\n",
       "      <td>70</td>\n",
       "      <td>RL</td>\n",
       "      <td>60.0</td>\n",
       "      <td>9550</td>\n",
       "      <td>Pave</td>\n",
       "      <td>NaN</td>\n",
       "      <td>IR1</td>\n",
       "      <td>Lvl</td>\n",
       "      <td>AllPub</td>\n",
       "      <td>...</td>\n",
       "      <td>0</td>\n",
       "      <td>NaN</td>\n",
       "      <td>NaN</td>\n",
       "      <td>NaN</td>\n",
       "      <td>0</td>\n",
       "      <td>2</td>\n",
       "      <td>2006</td>\n",
       "      <td>WD</td>\n",
       "      <td>Abnorml</td>\n",
       "      <td>140000</td>\n",
       "    </tr>\n",
       "    <tr>\n",
       "      <th>4</th>\n",
       "      <td>5</td>\n",
       "      <td>60</td>\n",
       "      <td>RL</td>\n",
       "      <td>84.0</td>\n",
       "      <td>14260</td>\n",
       "      <td>Pave</td>\n",
       "      <td>NaN</td>\n",
       "      <td>IR1</td>\n",
       "      <td>Lvl</td>\n",
       "      <td>AllPub</td>\n",
       "      <td>...</td>\n",
       "      <td>0</td>\n",
       "      <td>NaN</td>\n",
       "      <td>NaN</td>\n",
       "      <td>NaN</td>\n",
       "      <td>0</td>\n",
       "      <td>12</td>\n",
       "      <td>2008</td>\n",
       "      <td>WD</td>\n",
       "      <td>Normal</td>\n",
       "      <td>250000</td>\n",
       "    </tr>\n",
       "  </tbody>\n",
       "</table>\n",
       "<p>5 rows × 81 columns</p>\n",
       "</div>"
      ],
      "text/plain": [
       "   Id  MSSubClass MSZoning  LotFrontage  LotArea Street Alley LotShape  \\\n",
       "0   1          60       RL         65.0     8450   Pave   NaN      Reg   \n",
       "1   2          20       RL         80.0     9600   Pave   NaN      Reg   \n",
       "2   3          60       RL         68.0    11250   Pave   NaN      IR1   \n",
       "3   4          70       RL         60.0     9550   Pave   NaN      IR1   \n",
       "4   5          60       RL         84.0    14260   Pave   NaN      IR1   \n",
       "\n",
       "  LandContour Utilities  ... PoolArea PoolQC Fence MiscFeature MiscVal MoSold  \\\n",
       "0         Lvl    AllPub  ...        0    NaN   NaN         NaN       0      2   \n",
       "1         Lvl    AllPub  ...        0    NaN   NaN         NaN       0      5   \n",
       "2         Lvl    AllPub  ...        0    NaN   NaN         NaN       0      9   \n",
       "3         Lvl    AllPub  ...        0    NaN   NaN         NaN       0      2   \n",
       "4         Lvl    AllPub  ...        0    NaN   NaN         NaN       0     12   \n",
       "\n",
       "  YrSold  SaleType  SaleCondition  SalePrice  \n",
       "0   2008        WD         Normal     208500  \n",
       "1   2007        WD         Normal     181500  \n",
       "2   2008        WD         Normal     223500  \n",
       "3   2006        WD        Abnorml     140000  \n",
       "4   2008        WD         Normal     250000  \n",
       "\n",
       "[5 rows x 81 columns]"
      ]
     },
     "execution_count": 10,
     "metadata": {},
     "output_type": "execute_result"
    }
   ],
   "source": [
    "train.head(5)"
   ]
  },
  {
   "cell_type": "markdown",
   "id": "5911226e",
   "metadata": {},
   "source": [
    "# Exploratory Data Analysis (EDA)\n",
    "\n",
    "In this section, we'll perform exploratory data analysis to better understand our housing dataset. Our EDA will focus on:\n",
    "\n",
    "## 1. Data Overview\n",
    "- Basic information about the dataset\n",
    "- Summary statistics\n",
    "- Missing value analysis\n",
    "- Data types of features\n",
    "\n",
    "## 2. Feature Analysis\n",
    "- Distribution of target variable (Sale Price)\n",
    "- Numerical feature distributions\n",
    "- Categorical feature distributions\n",
    "- Correlation analysis between features\n",
    "\n",
    "## 3. Visualization\n",
    "- Distribution plots for key features\n",
    "- Correlation heatmap\n",
    "- Box plots to identify outliers\n",
    "- Scatter plots for important relationships\n",
    "\n",
    "This analysis will help us:\n",
    "- Identify data quality issues\n",
    "- Understand feature relationships\n",
    "- Guide our feature engineering process\n",
    "- Make informed decisions for model selection"
   ]
  },
  {
   "cell_type": "code",
   "execution_count": 11,
   "id": "11e8196e",
   "metadata": {},
   "outputs": [
    {
     "data": {
      "image/png": "[encoded data removed]",
      "text/plain": [
       "<Figure size 1000x600 with 1 Axes>"
      ]
     },
     "metadata": {},
     "output_type": "display_data"
    }
   ],
   "source": [
    "missing = train.isnull().sum()\n",
    "missing = missing[missing > 0]\n",
    "missing.sort_values(inplace=True)\n",
    "plt.figure(figsize = (10,6))\n",
    "# sns.barplot(x=missing.index, y=missing)\n",
    "# plt.xticks(rotation = 90)\n",
    "# plt.xlabel('Features')\n",
    "# plt.ylabel('Number of missing values')\n",
    "# plt.title('Missing values in training data')\n",
    "# plt.show()\n",
    "sns.barplot(x = missing.values, y = missing.index, palette = 'viridis', orient = 'h')\n",
    "plt.xlabel('Number of missing values')\n",
    "plt.ylabel('Features')\n",
    "plt.title('Missing values in training data')\n",
    "plt.show()"
   ]
  },
  {
   "cell_type": "code",
   "execution_count": 12,
   "id": "05aa2017",
   "metadata": {},
   "outputs": [
    {
     "data": {
      "image/png": "[encoded data removed]",
      "text/plain": [
       "<Figure size 640x480 with 1 Axes>"
      ]
     },
     "metadata": {},
     "output_type": "display_data"
    }
   ],
   "source": [
    "sns.histplot(x = train['SalePrice'], kde = True, color = 'blue')\n",
    "plt.xlabel('Sale Price')\n",
    "plt.ylabel('Frequency')\n",
    "plt.title('Distribution of Sale Price')\n",
    "plt.show()"
   ]
  },
  {
   "attachments": {
    "image.png": {
     "image/png": "[encoded data removed]"
    }
   },
   "cell_type": "markdown",
   "id": "6031c2fe",
   "metadata": {},
   "source": [
    "# Understanding the Sale Price Distribution Plot\n",
    "\n",
    "![image.png](attachment:image.png)\n",
    "\n",
    "The histogram plot shows the distribution of house sale prices in the dataset, revealing several key insights:\n",
    "\n",
    "## Key Features of the Plot\n",
    "\n",
    "### Shape 📊\n",
    "- Right-skewed (positively skewed) distribution\n",
    "- Long tail extending towards higher prices\n",
    "- Peak (mode) appears to be around the lower-middle price range\n",
    "\n",
    "### KDE (Blue Line) 📈\n",
    "- The blue curve is a Kernel Density Estimation\n",
    "- Smooths out the distribution\n",
    "- Helps visualize the overall shape of the data\n",
    "\n",
    "Distribution Type | Characteristics | Implication\n",
    "-----------------|-----------------|-------------\n",
    "Normal | Bell-shaped, symmetric | Standard modeling\n",
    "Right-skewed | Long tail on right | Need transformation\n",
    "Left-skewed | Long tail on left | Need transformation\n",
    "\n",
    "### Interpretation 🔍\n",
    "```\n",
    "Price Range     | Frequency\n",
    "----------------|----------\n",
    "Low-Mid         | ████████ High\n",
    "Mid             | ████     Medium\n",
    "High            | ██       Low\n",
    "```\n",
    "\n",
    "- Most houses are concentrated in the lower to middle price ranges\n",
    "- Fewer houses at very high price points\n",
    "- Not a normal distribution (asymmetric)\n",
    "- Suggests potential need for price transformation (e.g., log transformation) before modeling\n",
    "\n",
    "## Why This Matters 🎯\n",
    "- Helps identify outliers in house prices\n",
    "- Indicates potential need for data transformation\n",
    "- Guides feature engineering decisions\n",
    "- Important for selecting appropriate modeling approaches\n",
    "\n",
    "> 💡 *This type of right-skewed distribution is common in price data and often benefits from log transformation before modeling.*"
   ]
  },
  {
   "cell_type": "markdown",
   "id": "3894b69c",
   "metadata": {},
   "source": [
    "# Feature Engineering 🛠️\n",
    "\n",
    "## Handling Missing Values\n",
    "\n",
    "Our dataset contains several missing values that need to be addressed. We'll use different imputation techniques based on the data type and distribution of each feature.\n",
    "\n",
    "### Imputation Techniques 📊\n",
    "\n",
    "| Data Type | Method | When to Use | Example |\n",
    "|-----------|--------|-------------|----------|\n",
    "| Numerical | Mean | Symmetric distribution | Age, Income |\n",
    "| Numerical | Median | Skewed distribution | Price, Area |\n",
    "| Categorical | Mode | Most frequent value | Type, Category |\n",
    "| Categorical | None/NA | Meaningful missing values | Optional features |\n",
    "\n",
    "### Implementation Strategy 🎯\n",
    "\n",
    "1. **Numerical Features**\n",
    "   - Use mean for normally distributed features\n",
    "   - Use median for skewed features\n",
    "   - Consider domain knowledge for specific features\n",
    "\n",
    "2. **Categorical Features**\n",
    "   - Mode imputation for nominal data\n",
    "   - Ordinal encoding where applicable\n",
    "   - Create missing value indicator if needed\n",
    "\n",
    "### Example Visualization\n",
    "```\n",
    "Missing Values:\n",
    "Pool        |████████ (342)\n",
    "Garage      |████     (157)\n",
    "Basement    |██       (69)\n",
    "```\n",
    "\n",
    "## Feature Transformation 🔄\n",
    "\n",
    "After handling missing values, we'll apply these transformations:\n",
    "- Log transformation for skewed numerical features\n",
    "- One-hot encoding for categorical variables\n",
    "- Feature scaling/normalization where needed\n",
    "\n",
    "> 💡 **Note**: The choice of imputation method can significantly impact model performance. Always validate the impact of different methods through cross-validation.\n",
    "\n",
    "## Next Steps\n",
    "1. Identify numerical and categorical columns\n",
    "2. Apply appropriate imputation strategies\n",
    "3. Transform features as needed\n",
    "4. Validate results through visualization"
   ]
  },
  {
   "cell_type": "code",
   "execution_count": 13,
   "id": "c03cdfe4",
   "metadata": {},
   "outputs": [],
   "source": [
    "# Save target separately\n",
    "y = train[\"SalePrice\"]\n",
    "X = train.drop(\"SalePrice\", axis=1)\n",
    "\n",
    "# Concatenate train and test for consistent preprocessing\n",
    "all_data = pd.concat([X, test], axis=0)\n",
    "\n",
    "# Fill missing values\n",
    "for col in all_data.columns:\n",
    "    if all_data[col].dtype == \"object\":\n",
    "        all_data[col] = all_data[col].fillna(all_data[col].mode()[0])\n",
    "    else:\n",
    "        all_data[col] = all_data[col].fillna(all_data[col].median())\n",
    "\n",
    "# Encode categorical features\n",
    "for col in all_data.columns:\n",
    "    if all_data[col].dtype == \"object\":\n",
    "        le = LabelEncoder()\n",
    "        all_data[col] = le.fit_transform(all_data[col])\n",
    "\n",
    "# Split back\n",
    "X = all_data.iloc[:len(train), :]\n",
    "X_test = all_data.iloc[len(train):, :]\n",
    "\n",
    "# Scale features\n",
    "scaler = StandardScaler()\n",
    "X_scaled = scaler.fit_transform(X)\n",
    "X_test_scaled = scaler.transform(X_test)\n",
    "\n",
    "# Log transform target\n",
    "y_log = np.log1p(y)\n"
   ]
  },
  {
   "cell_type": "markdown",
   "id": "a2078867",
   "metadata": {},
   "source": [
    "#  Model Training\n",
    "\n",
    "Now that our data is preprocessed, we can proceed with training and evaluating different regression models. Our goal is to find the model that best predicts house prices.\n",
    "\n",
    "## Model Selection Strategy\n",
    "\n",
    "We will train a variety of models, starting from a simple baseline and moving to more complex and powerful algorithms. This allows us to compare their performance and understand the benefits of different approaches.\n",
    "\n",
    "| Model | Type | Key Characteristics |\n",
    "| :--- | :--- | :--- |\n",
    "| **Linear Regression** | Linear | Simple baseline, assumes linear relationships. |\n",
    "| **Ridge Regression** | Regularized Linear | Adds L2 regularization to handle multicollinearity. |\n",
    "| **Lasso Regression** | Regularized Linear | Adds L1 regularization, can perform feature selection. |\n",
    "| **Random Forest** | Ensemble (Bagging) | Robust to outliers and non-linear data. Averages predictions from many decision trees. |\n",
    "| **XGBoost** | Ensemble (Boosting) | High-performance gradient boosting algorithm. Builds trees sequentially to correct prior errors. |\n",
    "\n",
    "## Training and Evaluation \n",
    "\n",
    "To ensure our model's performance is robust and not just a result of a lucky data split, we will use **K-Fold Cross-Validation**.\n",
    "\n",
    "1.  **Splitting**: The training data (`X_scaled`, `y_log`) is split into 'k' folds (e.g., k=5 or k=10).\n",
    "2.  **Iteration**: The model is trained on 'k-1' folds and validated on the remaining fold. This process is repeated 'k' times, with each fold used as the validation set once.\n",
    "3.  **Averaging**: The performance metric from each fold is averaged to get a more reliable estimate of the model's effectiveness.\n",
    "\n",
    "```\n",
    "Data: [F1, F2, F3, F4, F5]\n",
    "\n",
    "Iter 1: Train on [F1,F2,F3,F4], Test on [F5] -> Score 1\n",
    "Iter 2: Train on [F1,F2,F3,F5], Test on [F4] -> Score 2\n",
    "...\n",
    "Iter 5: Train on [F2,F3,F4,F5], Test on [F1] -> Score 5\n",
    "\n",
    "Final Score = Average(Score 1, Score 2, ..., Score 5)\n",
    "```\n",
    "\n",
    "## Evaluation Metric: RMSLE \n",
    "\n",
    "Since we applied a log transformation to our target variable (`y_log = np.log1p(y)`), the standard Root Mean Squared Error (RMSE) calculated on our predictions will effectively become the **Root Mean Squared Logarithmic Error (RMSLE)**.\n",
    "\n",
    "**RMSE Formula**:\n",
    "$$ \\text{RMSE} = \\sqrt{\\frac{1}{n} \\sum_{i=1}^{n} (y_i - \\hat{y}_i)^2} $$\n",
    "\n",
    "When applied to log-transformed values:\n",
    "$$ \\text{RMSLE} = \\sqrt{\\frac{1}{n} \\sum_{i=1}^{n} (\\log(y_i+1) - \\log(\\hat{y}_i+1))^2} $$\n",
    "\n",
    "**Why RMSLE is useful here**:\n",
    "-   It measures the *relative* error between the predicted and actual values.\n",
    "-   It penalizes under-prediction more heavily than over-prediction, which is often desirable for price predictions.\n",
    "-   A lower RMSLE indicates a better model fit.\n",
    "\n",
    "> 💡 **Next Steps**: We will now implement a loop to train each of these models, perform cross-validation, and store their RMSLE scores to compare them and select the best-performing model."
   ]
  },
  {
   "cell_type": "code",
   "execution_count": 14,
   "id": "4db8af91",
   "metadata": {},
   "outputs": [],
   "source": [
    "\n",
    "from sklearn.model_selection import train_test_split, cross_val_score\n",
    "from sklearn.preprocessing import StandardScaler, LabelEncoder\n",
    "from sklearn.linear_model import LinearRegression, Ridge, Lasso\n",
    "from sklearn.ensemble import RandomForestRegressor\n",
    "from xgboost import XGBRegressor"
   ]
  },
  {
   "cell_type": "markdown",
   "id": "a26ea384",
   "metadata": {},
   "source": [
    "##  **Model Evaluation with Cross-Validation**\n",
    "\n",
    "### **What Are We Doing?**\n",
    "- Testing **5 regression models** to predict `LogSalePrice`.\n",
    "- Using **5-fold cross-validation** to estimate performance.\n",
    "- **Metric**: RMSE on log-transformed target (matches Kaggle’s eval).\n",
    "\n",
    "### **Why?**\n",
    "- Compare models to pick the best (likely XGBoost or RF).\n",
    "- CV ensures robust scores, avoiding overfitting.\n",
    "- `X_scaled` used because Linear/Ridge/Lasso need standardized features.\n",
    "\n",
    "### **Expected Output**\n",
    "- Table-like printout of **Mean RMSE** and **Std** for each model.\n",
    "- **Best Model**: Likely XGBoost with RMSE ~0.11-0.12.\n",
    "- Stored `result` for plotting or further analysis.\n",
    "\n",
    "### **Assumptions**\n",
    "- `X_scaled`: Features like `GrLivArea`, `TotalSF` are standardized.\n",
    "- `y_log`: Target is `np.log1p(SalePrice)` to handle skewness."
   ]
  },
  {
   "cell_type": "code",
   "execution_count": 16,
   "id": "4c7e6565",
   "metadata": {},
   "outputs": [
    {
     "name": "stdout",
     "output_type": "stream",
     "text": [
      "Linear Regression: Mean RMSE = 0.1543, Std = 0.0331\n",
      "Ridge Regression: Mean RMSE = 0.1541, Std = 0.0328\n",
      "Lasso Regression: Mean RMSE = 0.2207, Std = 0.0135\n",
      "Random Forest: Mean RMSE = 0.1425, Std = 0.0082\n",
      "XGBoost: Mean RMSE = 0.1332, Std = 0.0110\n"
     ]
    },
    {
     "data": {
      "image/png": "[encoded data removed]",
      "text/plain": [
       "<Figure size 1000x600 with 1 Axes>"
      ]
     },
     "metadata": {},
     "output_type": "display_data"
    }
   ],
   "source": [
    "# Dictionary of models to evaluate\n",
    "model = {\n",
    "    \"Linear Regression\": LinearRegression(),  # Simple baseline\n",
    "    \"Ridge Regression\": Ridge(alpha=1.0),     # L2 regularization\n",
    "    \"Lasso Regression\": Lasso(alpha=0.1),     # L1 for feature selection\n",
    "    \"Random Forest\": RandomForestRegressor(n_estimators=100, random_state=42),  # Tree ensemble\n",
    "    \"XGBoost\": XGBRegressor(n_estimators=100, learning_rate=0.1, random_state=42)  # Gradient boosting\n",
    "}\n",
    "\n",
    "# Store results\n",
    "result = {}\n",
    "\n",
    "# Loop through each model\n",
    "for name, model in model.items():\n",
    "    # 5-fold CV with neg MSE\n",
    "    scores = cross_val_score(model, X_scaled, y_log, cv=5, scoring='neg_mean_squared_error')\n",
    "    # Convert to RMSE\n",
    "    rmse_scores = np.sqrt(-scores)\n",
    "    # Save scores\n",
    "    result[name] = rmse_scores\n",
    "    # Print mean and std of RMSE\n",
    "    print(f\"{name}: Mean RMSE = {rmse_scores.mean():.4f}, Std = {rmse_scores.std():.4f}\")\n",
    "\n",
    "# Optional: Visualize RMSEs\n",
    "plt.figure(figsize=(10, 6))\n",
    "rmse_df = pd.DataFrame(result)\n",
    "sns.boxplot(data=rmse_df)\n",
    "plt.title('RMSE Distribution Across Models (5-Fold CV)')\n",
    "plt.ylabel('RMSE')\n",
    "plt.xticks(rotation=45)\n",
    "plt.show()"
   ]
  },
  {
   "cell_type": "code",
   "execution_count": 18,
   "id": "4b52e5d3",
   "metadata": {},
   "outputs": [
    {
     "data": {
      "image/png": "[encoded data removed]",
      "text/plain": [
       "<Figure size 640x480 with 1 Axes>"
      ]
     },
     "metadata": {},
     "output_type": "display_data"
    }
   ],
   "source": [
    "best_model = XGBRegressor(n_estimators=100, learning_rate=0.1, random_state=42).fit(X_scaled, y_log)\n",
    "feat_imp = pd.Series(best_model.feature_importances_, index=X.columns).sort_values(ascending=False).head(10)\n",
    "sns.barplot(x=feat_imp.values, y=feat_imp.index)\n",
    "plt.title('Top 10 Feature Importances (XGBoost)')\n",
    "plt.show()"
   ]
  },
  {
   "cell_type": "code",
   "execution_count": 19,
   "id": "2b30cfb7",
   "metadata": {},
   "outputs": [
    {
     "name": "stdout",
     "output_type": "stream",
     "text": [
      "Submission file created: (1459, 2)\n"
     ]
    },
    {
     "data": {
      "application/vnd.microsoft.datawrangler.viewer.v0+json": {
       "columns": [
        {
         "name": "index",
         "rawType": "int64",
         "type": "integer"
        },
        {
         "name": "Id",
         "rawType": "int64",
         "type": "integer"
        },
        {
         "name": "SalePrice",
         "rawType": "float32",
         "type": "float"
        }
       ],
       "ref": "63e3e649-a3d4-480c-ac23-fd8d6510cab2",
       "rows": [
        [
         "0",
         "1461",
         "121089.7"
        ],
        [
         "1",
         "1462",
         "147800.5"
        ],
        [
         "2",
         "1463",
         "187257.7"
        ],
        [
         "3",
         "1464",
         "187934.69"
        ],
        [
         "4",
         "1465",
         "174386.73"
        ]
       ],
       "shape": {
        "columns": 2,
        "rows": 5
       }
      },
      "text/html": [
       "<div>\n",
       "<style scoped>\n",
       "    .dataframe tbody tr th:only-of-type {\n",
       "        vertical-align: middle;\n",
       "    }\n",
       "\n",
       "    .dataframe tbody tr th {\n",
       "        vertical-align: top;\n",
       "    }\n",
       "\n",
       "    .dataframe thead th {\n",
       "        text-align: right;\n",
       "    }\n",
       "</style>\n",
       "<table border=\"1\" class=\"dataframe\">\n",
       "  <thead>\n",
       "    <tr style=\"text-align: right;\">\n",
       "      <th></th>\n",
       "      <th>Id</th>\n",
       "      <th>SalePrice</th>\n",
       "    </tr>\n",
       "  </thead>\n",
       "  <tbody>\n",
       "    <tr>\n",
       "      <th>0</th>\n",
       "      <td>1461</td>\n",
       "      <td>121089.703125</td>\n",
       "    </tr>\n",
       "    <tr>\n",
       "      <th>1</th>\n",
       "      <td>1462</td>\n",
       "      <td>147800.500000</td>\n",
       "    </tr>\n",
       "    <tr>\n",
       "      <th>2</th>\n",
       "      <td>1463</td>\n",
       "      <td>187257.703125</td>\n",
       "    </tr>\n",
       "    <tr>\n",
       "      <th>3</th>\n",
       "      <td>1464</td>\n",
       "      <td>187934.687500</td>\n",
       "    </tr>\n",
       "    <tr>\n",
       "      <th>4</th>\n",
       "      <td>1465</td>\n",
       "      <td>174386.734375</td>\n",
       "    </tr>\n",
       "  </tbody>\n",
       "</table>\n",
       "</div>"
      ],
      "text/plain": [
       "     Id      SalePrice\n",
       "0  1461  121089.703125\n",
       "1  1462  147800.500000\n",
       "2  1463  187257.703125\n",
       "3  1464  187934.687500\n",
       "4  1465  174386.734375"
      ]
     },
     "execution_count": 19,
     "metadata": {},
     "output_type": "execute_result"
    }
   ],
   "source": [
    "final_model = XGBRegressor(n_estimators=500, learning_rate=0.05, max_depth=4, random_state=42)\n",
    "final_model.fit(X_scaled, y_log)\n",
    "\n",
    "preds = final_model.predict(X_test_scaled)\n",
    "preds_exp = np.expm1(preds)\n",
    "\n",
    "final_submission = pd.DataFrame({\n",
    "    \"Id\": submission[\"Id\"],\n",
    "    \"SalePrice\": preds_exp\n",
    "})\n",
    "\n",
    "final_submission.to_csv(\"submission.csv\", index=False)\n",
    "print(\"Submission file created:\", final_submission.shape)\n",
    "final_submission.head()"
   ]
  }
 ],
 "metadata": {
  "kernelspec": {
   "display_name": "Python 3",
   "language": "python",
   "name": "python3"
  },
  "language_info": {
   "codemirror_mode": {
    "name": "ipython",
    "version": 3
   },
   "file_extension": ".py",
   "mimetype": "text/x-python",
   "name": "python",
   "nbconvert_exporter": "python",
   "pygments_lexer": "ipython3",
   "version": "3.10.10"
  }
 },
 "nbformat": 4,
 "nbformat_minor": 5
}
