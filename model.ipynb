{
 "cells": [
  {
   "cell_type": "markdown",
   "id": "7060e520",
   "metadata": {},
   "source": [
    "# **House Price** Prediction Using Tensor Flow Decision Forest \n",
    "This notebook walks you through how to train a baseline Random Forest model using TensorFlow Decision Forests on the House Prices dataset made available for this competition.\n",
    "\n",
    "Roughly, the code will look as follows:\n",
    "\n",
    "```\n",
    "import tensorflow_decision_forests as tfdf\n",
    "import pandas as pd\n",
    "\n",
    "dataset = pd.read_csv(\"project/dataset.csv\")\n",
    "tf_dataset = tfdf.keras.pd_dataframe_to_tf_dataset(dataset, label=\"my_label\")\n",
    "\n",
    "model = tfdf.keras.RandomForestModel()\n",
    "model.fit(tf_dataset)\n",
    "\n",
    "print(model.summary())\n",
    "```\n",
    "\n",
    "Decision Forests are a family of tree-based models including Random Forests and Gradient Boosted Trees. They are the best place to start when working with tabular data, and will often outperform (or provide a strong baseline) before you begin experimenting with neural networks."
   ]
  },
  {
   "cell_type": "code",
   "execution_count": 26,
   "id": "29ff0f55",
   "metadata": {},
   "outputs": [
    {
     "name": "stdout",
     "output_type": "stream",
     "text": [
      "All necessary libraries imported successfully.\n"
     ]
    }
   ],
   "source": [
    "import pandas as pd\n",
    "import numpy as np\n",
    "import matplotlib.pyplot as plt\n",
    "import seaborn as sns\n",
    "\n",
    "from sklearn.model_selection import train_test_split, cross_val_score\n",
    "from sklearn.preprocessing import StandardScaler, LabelEncoder\n",
    "from sklearn.linear_model import LinearRegression, Ridge, Lasso\n",
    "from sklearn.ensemble import RandomForestRegressor\n",
    "from xgboost import XGBRegressor\n",
    "\n",
    "from sklearn.metrics import mean_squared_error\n",
    "import warnings\n",
    "warnings.filterwarnings(\"ignore\")\n",
    "# Removed any import or usage of numpy.strings as it does not exist.\n",
    "print(\"All necessary libraries imported successfully.\")"
   ]
  },
  {
   "cell_type": "markdown",
   "id": "ad7b2c14",
   "metadata": {},
   "source": [
    "# Loading the Dataset\n",
    "\n",
    "In this cell, we load three CSV files from the `Data` directory:\n",
    "\n",
    "- **train.csv**: Training dataset for model development\n",
    "- **test.csv**: Testing dataset for making predictions\n",
    "- **sample_submission.csv**: Sample submission format for predictions\n",
    "\n",
    "The datasets are loaded using pandas' `read_csv()` function. This will create three DataFrames:\n",
    "- `train`: Contains the training data with features and target variable\n",
    "- `test`: Contains the test data with features only\n",
    "- `submission`: Contains the format for submitting predictions"
   ]
  },
  {
   "cell_type": "code",
   "execution_count": 27,
   "id": "ea7e86c7",
   "metadata": {},
   "outputs": [
    {
     "name": "stdout",
     "output_type": "stream",
     "text": [
      "Data loaded successfully.\n"
     ]
    }
   ],
   "source": [
    "train = pd.read_csv('./Data/train.csv')\n",
    "test = pd.read_csv('./Data/test.csv')\n",
    "submission = pd.read_csv('./Data/sample_submission.csv')\n",
    "print(\"Data loaded successfully.\")\n",
    "print(\"trainging data shape\",train.shape)\n",
    "print(\"testing data shape\",test.shape)\n",
    "print(\"submission data shape\",submission.shape)"
   ]
  },
  {
   "cell_type": "code",
   "execution_count": null,
   "id": "dd3ed720",
   "metadata": {},
   "outputs": [],
   "source": [
    "train.head(5)"
   ]
  }
 ],
 "metadata": {
  "kernelspec": {
   "display_name": "Python 3",
   "language": "python",
   "name": "python3"
  },
  "language_info": {
   "codemirror_mode": {
    "name": "ipython",
    "version": 3
   },
   "file_extension": ".py",
   "mimetype": "text/x-python",
   "name": "python",
   "nbconvert_exporter": "python",
   "pygments_lexer": "ipython3",
   "version": "3.10.10"
  }
 },
 "nbformat": 4,
 "nbformat_minor": 5
}
