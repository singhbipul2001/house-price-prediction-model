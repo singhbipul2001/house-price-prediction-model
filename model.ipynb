{
 "cells": [
  {
   "cell_type": "markdown",
   "id": "3cb33341",
   "metadata": {},
   "source": [
    "## **in this** notebook we will build model to predict house price "
   ]
  },
  {
   "cell_type": "markdown",
   "id": "7060e520",
   "metadata": {},
   "source": []
  },
  {
   "cell_type": "code",
   "execution_count": null,
   "id": "8a04f1ae",
   "metadata": {},
   "outputs": [],
   "source": []
  }
 ],
 "metadata": {
  "language_info": {
   "name": "python"
  }
 },
 "nbformat": 4,
 "nbformat_minor": 5
}
